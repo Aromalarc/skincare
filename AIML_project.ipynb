{
 "cells": [
  {
   "cell_type": "code",
   "execution_count": 3,
   "id": "d1aa499d-7c6c-413a-8da0-c2cc71da549d",
   "metadata": {},
   "outputs": [],
   "source": [
    "import os\n",
    "import numpy as np\n",
    "import pandas as pd\n",
    "import matplotlib.pyplot as plt\n",
    "from PIL import Image"
   ]
  },
  {
   "cell_type": "code",
   "execution_count": 5,
   "id": "cdd35599-d116-48e8-88f0-bf3dcbb91fe2",
   "metadata": {},
   "outputs": [],
   "source": [
    "import tensorflow as tf\n",
    "from tensorflow.keras.applications import MobileNetV2\n",
    "from tensorflow.keras.preprocessing.image import img_to_array\n",
    "from tensorflow.keras.models import Model\n",
    "from tensorflow.keras.layers import Dense, GlobalAveragePooling2D, Input\n",
    "from tensorflow.keras.utils import to_categorical\n",
    "from sklearn.model_selection import train_test_split\n",
    "from sklearn.preprocessing import LabelEncoder\n"
   ]
  },
  {
   "cell_type": "code",
   "execution_count": 6,
   "id": "ab4a4ef1-a098-4318-8710-bde5c0bdfc3d",
   "metadata": {},
   "outputs": [
    {
     "name": "stdout",
     "output_type": "stream",
     "text": [
      "✅ Loaded 10015 images, each resized to 128x128\n"
     ]
    }
   ],
   "source": [
    "import os\n",
    "import numpy as np\n",
    "import pandas as pd\n",
    "from PIL import Image\n",
    "from sklearn.preprocessing import LabelEncoder\n",
    "\n",
    "IMG_SIZE = 128\n",
    "\n",
    "# And in the image loader:\n",
    "img_array = np.array(img).astype(np.float32) / 255.0\n",
    "\n",
    "\n",
    "# Load metadata\n",
    "df = pd.read_csv('HAM10000_metadata.csv')\n",
    "\n",
    "# Encode labels\n",
    "le = LabelEncoder()\n",
    "df['label'] = le.fit_transform(df['dx'])\n",
    "\n",
    "X = []\n",
    "y = []\n",
    "\n",
    "# Load and resize images\n",
    "image_folders = ['HAM10000_images_part_1', 'HAM10000_images_part_2']\n",
    "\n",
    "for i, row in df.iterrows():\n",
    "    image_id = row['image_id'] + \".jpg\"\n",
    "    label = row['label']\n",
    "    \n",
    "    img_path = None\n",
    "    for folder in image_folders:\n",
    "        path = os.path.join('C:/Users/aroma/Downloads', folder, image_id)\n",
    "        if os.path.exists(path):\n",
    "            img_path = path\n",
    "            break\n",
    "    \n",
    "    if img_path:\n",
    "        img = Image.open(img_path).resize((IMG_SIZE, IMG_SIZE))\n",
    "        img_array = np.array(img) / 255.0\n",
    "        if img_array.shape == (IMG_SIZE, IMG_SIZE, 3):  # Ensure RGB\n",
    "            X.append(img_array)\n",
    "            y.append(label)\n",
    "\n",
    "X = np.array(X)\n",
    "y = np.array(y)\n",
    "\n",
    "print(f\"✅ Loaded {len(X)} images, each resized to {IMG_SIZE}x{IMG_SIZE}\")\n"
   ]
  },
  {
   "cell_type": "code",
   "execution_count": 7,
   "id": "0aa5a19b-41e1-4ca1-b810-fa0cf596f88a",
   "metadata": {},
   "outputs": [
    {
     "name": "stdout",
     "output_type": "stream",
     "text": [
      "Training shape: (8012, 128, 128, 3)\n",
      "Validation shape: (2003, 128, 128, 3)\n"
     ]
    }
   ],
   "source": [
    "from sklearn.model_selection import train_test_split\n",
    "from tensorflow.keras.utils import to_categorical\n",
    "\n",
    "# Convert integer labels to one-hot encoding\n",
    "y_cat = to_categorical(y, num_classes=len(np.unique(y)))\n",
    "\n",
    "# Split into 80% training, 20% validation\n",
    "X_train, X_val, y_train, y_val = train_test_split(X, y_cat, test_size=0.2, random_state=42)\n",
    "\n",
    "print(\"Training shape:\", X_train.shape)\n",
    "print(\"Validation shape:\", X_val.shape)\n"
   ]
  },
  {
   "cell_type": "code",
   "execution_count": 8,
   "id": "476791af-f4f1-4bfe-b9d4-2485bedc41b4",
   "metadata": {},
   "outputs": [
    {
     "data": {
      "text/html": [
       "<pre style=\"white-space:pre;overflow-x:auto;line-height:normal;font-family:Menlo,'DejaVu Sans Mono',consolas,'Courier New',monospace\"><span style=\"font-weight: bold\">Model: \"functional\"</span>\n",
       "</pre>\n"
      ],
      "text/plain": [
       "\u001b[1mModel: \"functional\"\u001b[0m\n"
      ]
     },
     "metadata": {},
     "output_type": "display_data"
    },
    {
     "data": {
      "text/html": [
       "<pre style=\"white-space:pre;overflow-x:auto;line-height:normal;font-family:Menlo,'DejaVu Sans Mono',consolas,'Courier New',monospace\">┏━━━━━━━━━━━━━━━━━━━━━━━━━━━━━━━━━━━━━━┳━━━━━━━━━━━━━━━━━━━━━━━━━━━━━┳━━━━━━━━━━━━━━━━━┓\n",
       "┃<span style=\"font-weight: bold\"> Layer (type)                         </span>┃<span style=\"font-weight: bold\"> Output Shape                </span>┃<span style=\"font-weight: bold\">         Param # </span>┃\n",
       "┡━━━━━━━━━━━━━━━━━━━━━━━━━━━━━━━━━━━━━━╇━━━━━━━━━━━━━━━━━━━━━━━━━━━━━╇━━━━━━━━━━━━━━━━━┩\n",
       "│ input_layer_1 (<span style=\"color: #0087ff; text-decoration-color: #0087ff\">InputLayer</span>)           │ (<span style=\"color: #00d7ff; text-decoration-color: #00d7ff\">None</span>, <span style=\"color: #00af00; text-decoration-color: #00af00\">128</span>, <span style=\"color: #00af00; text-decoration-color: #00af00\">128</span>, <span style=\"color: #00af00; text-decoration-color: #00af00\">3</span>)         │               <span style=\"color: #00af00; text-decoration-color: #00af00\">0</span> │\n",
       "├──────────────────────────────────────┼─────────────────────────────┼─────────────────┤\n",
       "│ mobilenetv2_1.00_128 (<span style=\"color: #0087ff; text-decoration-color: #0087ff\">Functional</span>)    │ (<span style=\"color: #00d7ff; text-decoration-color: #00d7ff\">None</span>, <span style=\"color: #00af00; text-decoration-color: #00af00\">4</span>, <span style=\"color: #00af00; text-decoration-color: #00af00\">4</span>, <span style=\"color: #00af00; text-decoration-color: #00af00\">1280</span>)          │       <span style=\"color: #00af00; text-decoration-color: #00af00\">2,257,984</span> │\n",
       "├──────────────────────────────────────┼─────────────────────────────┼─────────────────┤\n",
       "│ global_average_pooling2d             │ (<span style=\"color: #00d7ff; text-decoration-color: #00d7ff\">None</span>, <span style=\"color: #00af00; text-decoration-color: #00af00\">1280</span>)                │               <span style=\"color: #00af00; text-decoration-color: #00af00\">0</span> │\n",
       "│ (<span style=\"color: #0087ff; text-decoration-color: #0087ff\">GlobalAveragePooling2D</span>)             │                             │                 │\n",
       "├──────────────────────────────────────┼─────────────────────────────┼─────────────────┤\n",
       "│ dense (<span style=\"color: #0087ff; text-decoration-color: #0087ff\">Dense</span>)                        │ (<span style=\"color: #00d7ff; text-decoration-color: #00d7ff\">None</span>, <span style=\"color: #00af00; text-decoration-color: #00af00\">128</span>)                 │         <span style=\"color: #00af00; text-decoration-color: #00af00\">163,968</span> │\n",
       "├──────────────────────────────────────┼─────────────────────────────┼─────────────────┤\n",
       "│ dense_1 (<span style=\"color: #0087ff; text-decoration-color: #0087ff\">Dense</span>)                      │ (<span style=\"color: #00d7ff; text-decoration-color: #00d7ff\">None</span>, <span style=\"color: #00af00; text-decoration-color: #00af00\">7</span>)                   │             <span style=\"color: #00af00; text-decoration-color: #00af00\">903</span> │\n",
       "└──────────────────────────────────────┴─────────────────────────────┴─────────────────┘\n",
       "</pre>\n"
      ],
      "text/plain": [
       "┏━━━━━━━━━━━━━━━━━━━━━━━━━━━━━━━━━━━━━━┳━━━━━━━━━━━━━━━━━━━━━━━━━━━━━┳━━━━━━━━━━━━━━━━━┓\n",
       "┃\u001b[1m \u001b[0m\u001b[1mLayer (type)                        \u001b[0m\u001b[1m \u001b[0m┃\u001b[1m \u001b[0m\u001b[1mOutput Shape               \u001b[0m\u001b[1m \u001b[0m┃\u001b[1m \u001b[0m\u001b[1m        Param #\u001b[0m\u001b[1m \u001b[0m┃\n",
       "┡━━━━━━━━━━━━━━━━━━━━━━━━━━━━━━━━━━━━━━╇━━━━━━━━━━━━━━━━━━━━━━━━━━━━━╇━━━━━━━━━━━━━━━━━┩\n",
       "│ input_layer_1 (\u001b[38;5;33mInputLayer\u001b[0m)           │ (\u001b[38;5;45mNone\u001b[0m, \u001b[38;5;34m128\u001b[0m, \u001b[38;5;34m128\u001b[0m, \u001b[38;5;34m3\u001b[0m)         │               \u001b[38;5;34m0\u001b[0m │\n",
       "├──────────────────────────────────────┼─────────────────────────────┼─────────────────┤\n",
       "│ mobilenetv2_1.00_128 (\u001b[38;5;33mFunctional\u001b[0m)    │ (\u001b[38;5;45mNone\u001b[0m, \u001b[38;5;34m4\u001b[0m, \u001b[38;5;34m4\u001b[0m, \u001b[38;5;34m1280\u001b[0m)          │       \u001b[38;5;34m2,257,984\u001b[0m │\n",
       "├──────────────────────────────────────┼─────────────────────────────┼─────────────────┤\n",
       "│ global_average_pooling2d             │ (\u001b[38;5;45mNone\u001b[0m, \u001b[38;5;34m1280\u001b[0m)                │               \u001b[38;5;34m0\u001b[0m │\n",
       "│ (\u001b[38;5;33mGlobalAveragePooling2D\u001b[0m)             │                             │                 │\n",
       "├──────────────────────────────────────┼─────────────────────────────┼─────────────────┤\n",
       "│ dense (\u001b[38;5;33mDense\u001b[0m)                        │ (\u001b[38;5;45mNone\u001b[0m, \u001b[38;5;34m128\u001b[0m)                 │         \u001b[38;5;34m163,968\u001b[0m │\n",
       "├──────────────────────────────────────┼─────────────────────────────┼─────────────────┤\n",
       "│ dense_1 (\u001b[38;5;33mDense\u001b[0m)                      │ (\u001b[38;5;45mNone\u001b[0m, \u001b[38;5;34m7\u001b[0m)                   │             \u001b[38;5;34m903\u001b[0m │\n",
       "└──────────────────────────────────────┴─────────────────────────────┴─────────────────┘\n"
      ]
     },
     "metadata": {},
     "output_type": "display_data"
    },
    {
     "data": {
      "text/html": [
       "<pre style=\"white-space:pre;overflow-x:auto;line-height:normal;font-family:Menlo,'DejaVu Sans Mono',consolas,'Courier New',monospace\"><span style=\"font-weight: bold\"> Total params: </span><span style=\"color: #00af00; text-decoration-color: #00af00\">2,422,855</span> (9.24 MB)\n",
       "</pre>\n"
      ],
      "text/plain": [
       "\u001b[1m Total params: \u001b[0m\u001b[38;5;34m2,422,855\u001b[0m (9.24 MB)\n"
      ]
     },
     "metadata": {},
     "output_type": "display_data"
    },
    {
     "data": {
      "text/html": [
       "<pre style=\"white-space:pre;overflow-x:auto;line-height:normal;font-family:Menlo,'DejaVu Sans Mono',consolas,'Courier New',monospace\"><span style=\"font-weight: bold\"> Trainable params: </span><span style=\"color: #00af00; text-decoration-color: #00af00\">164,871</span> (644.03 KB)\n",
       "</pre>\n"
      ],
      "text/plain": [
       "\u001b[1m Trainable params: \u001b[0m\u001b[38;5;34m164,871\u001b[0m (644.03 KB)\n"
      ]
     },
     "metadata": {},
     "output_type": "display_data"
    },
    {
     "data": {
      "text/html": [
       "<pre style=\"white-space:pre;overflow-x:auto;line-height:normal;font-family:Menlo,'DejaVu Sans Mono',consolas,'Courier New',monospace\"><span style=\"font-weight: bold\"> Non-trainable params: </span><span style=\"color: #00af00; text-decoration-color: #00af00\">2,257,984</span> (8.61 MB)\n",
       "</pre>\n"
      ],
      "text/plain": [
       "\u001b[1m Non-trainable params: \u001b[0m\u001b[38;5;34m2,257,984\u001b[0m (8.61 MB)\n"
      ]
     },
     "metadata": {},
     "output_type": "display_data"
    }
   ],
   "source": [
    "from tensorflow.keras.applications import MobileNetV2\n",
    "from tensorflow.keras.models import Model\n",
    "from tensorflow.keras.layers import Input, GlobalAveragePooling2D, Dense\n",
    "from tensorflow.keras.optimizers import Adam\n",
    "\n",
    "# Load base model (excluding top layer), with frozen weights\n",
    "base_model = MobileNetV2(weights='imagenet', include_top=False, input_shape=(IMG_SIZE, IMG_SIZE, 3))\n",
    "base_model.trainable = False\n",
    "\n",
    "# Build custom classifier on top\n",
    "inputs = Input(shape=(IMG_SIZE, IMG_SIZE, 3))\n",
    "x = base_model(inputs, training=False)\n",
    "x = GlobalAveragePooling2D()(x)\n",
    "x = Dense(128, activation='relu')(x)\n",
    "outputs = Dense(y_cat.shape[1], activation='softmax')(x)\n",
    "\n",
    "model = Model(inputs, outputs)\n",
    "\n",
    "# Compile model\n",
    "model.compile(optimizer=Adam(), loss='categorical_crossentropy', metrics=['accuracy'])\n",
    "\n",
    "model.summary()\n"
   ]
  },
  {
   "cell_type": "code",
   "execution_count": 9,
   "id": "96cfbb82-1dff-4ba9-bffc-64c8c94f0e8b",
   "metadata": {},
   "outputs": [
    {
     "name": "stdout",
     "output_type": "stream",
     "text": [
      "Epoch 1/10\n",
      "\u001b[1m251/251\u001b[0m \u001b[32m━━━━━━━━━━━━━━━━━━━━\u001b[0m\u001b[37m\u001b[0m \u001b[1m46s\u001b[0m 164ms/step - accuracy: 0.6748 - loss: 0.9586 - val_accuracy: 0.7149 - val_loss: 0.7778\n",
      "Epoch 2/10\n",
      "\u001b[1m251/251\u001b[0m \u001b[32m━━━━━━━━━━━━━━━━━━━━\u001b[0m\u001b[37m\u001b[0m \u001b[1m34s\u001b[0m 135ms/step - accuracy: 0.7598 - loss: 0.6757 - val_accuracy: 0.7419 - val_loss: 0.7092\n",
      "Epoch 3/10\n",
      "\u001b[1m251/251\u001b[0m \u001b[32m━━━━━━━━━━━━━━━━━━━━\u001b[0m\u001b[37m\u001b[0m \u001b[1m34s\u001b[0m 137ms/step - accuracy: 0.7914 - loss: 0.5737 - val_accuracy: 0.7409 - val_loss: 0.7101\n",
      "Epoch 4/10\n",
      "\u001b[1m251/251\u001b[0m \u001b[32m━━━━━━━━━━━━━━━━━━━━\u001b[0m\u001b[37m\u001b[0m \u001b[1m34s\u001b[0m 134ms/step - accuracy: 0.8198 - loss: 0.5198 - val_accuracy: 0.7394 - val_loss: 0.6990\n",
      "Epoch 5/10\n",
      "\u001b[1m251/251\u001b[0m \u001b[32m━━━━━━━━━━━━━━━━━━━━\u001b[0m\u001b[37m\u001b[0m \u001b[1m34s\u001b[0m 134ms/step - accuracy: 0.8243 - loss: 0.4757 - val_accuracy: 0.7424 - val_loss: 0.7344\n",
      "Epoch 6/10\n",
      "\u001b[1m251/251\u001b[0m \u001b[32m━━━━━━━━━━━━━━━━━━━━\u001b[0m\u001b[37m\u001b[0m \u001b[1m34s\u001b[0m 134ms/step - accuracy: 0.8546 - loss: 0.4172 - val_accuracy: 0.7554 - val_loss: 0.7022\n",
      "Epoch 7/10\n",
      "\u001b[1m251/251\u001b[0m \u001b[32m━━━━━━━━━━━━━━━━━━━━\u001b[0m\u001b[37m\u001b[0m \u001b[1m34s\u001b[0m 134ms/step - accuracy: 0.8624 - loss: 0.3814 - val_accuracy: 0.7284 - val_loss: 0.8032\n",
      "Epoch 8/10\n",
      "\u001b[1m251/251\u001b[0m \u001b[32m━━━━━━━━━━━━━━━━━━━━\u001b[0m\u001b[37m\u001b[0m \u001b[1m34s\u001b[0m 136ms/step - accuracy: 0.8749 - loss: 0.3493 - val_accuracy: 0.7254 - val_loss: 0.7926\n",
      "Epoch 9/10\n",
      "\u001b[1m251/251\u001b[0m \u001b[32m━━━━━━━━━━━━━━━━━━━━\u001b[0m\u001b[37m\u001b[0m \u001b[1m34s\u001b[0m 136ms/step - accuracy: 0.8878 - loss: 0.3224 - val_accuracy: 0.7564 - val_loss: 0.7801\n",
      "Epoch 10/10\n",
      "\u001b[1m251/251\u001b[0m \u001b[32m━━━━━━━━━━━━━━━━━━━━\u001b[0m\u001b[37m\u001b[0m \u001b[1m34s\u001b[0m 135ms/step - accuracy: 0.9050 - loss: 0.2723 - val_accuracy: 0.7489 - val_loss: 0.7703\n"
     ]
    }
   ],
   "source": [
    "history = model.fit(\n",
    "    X_train, y_train,\n",
    "    validation_data=(X_val, y_val),\n",
    "    epochs=10,           # Increase later if needed\n",
    "    batch_size=32\n",
    ")"
   ]
  },
  {
   "cell_type": "code",
   "execution_count": 10,
   "id": "7ad1df5f-4437-4f3c-951b-043f9656074d",
   "metadata": {},
   "outputs": [],
   "source": [
    "import matplotlib.pyplot as plt"
   ]
  },
  {
   "cell_type": "code",
   "execution_count": 11,
   "id": "1e9fda3d-05c0-440e-b23a-26c748612749",
   "metadata": {},
   "outputs": [
    {
     "data": {
      "image/png": "[encoded data removed]",
      "text/plain": [
       "<Figure size 640x480 with 1 Axes>"
      ]
     },
     "metadata": {},
     "output_type": "display_data"
    }
   ],
   "source": [
    "# Plot accuracy\n",
    "plt.plot(history.history['accuracy'], label='Train Accuracy')\n",
    "plt.plot(history.history['val_accuracy'], label='Validation Accuracy')\n",
    "plt.xlabel('Epochs')\n",
    "plt.ylabel('Accuracy')\n",
    "plt.title('Training vs Validation Accuracy')\n",
    "plt.legend()\n",
    "plt.show()"
   ]
  },
  {
   "cell_type": "code",
   "execution_count": 12,
   "id": "e1c45302-dfd8-4de6-95df-04fa12ec337c",
   "metadata": {},
   "outputs": [
    {
     "name": "stdout",
     "output_type": "stream",
     "text": [
      "\u001b[1m63/63\u001b[0m \u001b[32m━━━━━━━━━━━━━━━━━━━━\u001b[0m\u001b[37m\u001b[0m \u001b[1m7s\u001b[0m 118ms/step - accuracy: 0.7432 - loss: 0.8000\n",
      "Validation Accuracy: 0.75\n"
     ]
    }
   ],
   "source": [
    "loss, accuracy = model.evaluate(X_val, y_val)\n",
    "print(f\"Validation Accuracy: {accuracy:.2f}\")"
   ]
  },
  {
   "cell_type": "code",
   "execution_count": 14,
   "id": "178c3596-acac-4650-a3f1-e9d61f149c14",
   "metadata": {},
   "outputs": [
    {
     "name": "stdout",
     "output_type": "stream",
     "text": [
      "\u001b[1m63/63\u001b[0m \u001b[32m━━━━━━━━━━━━━━━━━━━━\u001b[0m\u001b[37m\u001b[0m \u001b[1m9s\u001b[0m 126ms/step\n"
     ]
    },
    {
     "data": {
      "image/png": "[encoded data removed]",
      "text/plain": [
       "<Figure size 800x600 with 2 Axes>"
      ]
     },
     "metadata": {},
     "output_type": "display_data"
    },
    {
     "name": "stdout",
     "output_type": "stream",
     "text": [
      "              precision    recall  f1-score   support\n",
      "\n",
      "       akiec       0.47      0.35      0.40        69\n",
      "         bcc       0.46      0.61      0.53        93\n",
      "         bkl       0.53      0.39      0.45       228\n",
      "          df       0.50      0.11      0.18        28\n",
      "         mel       0.49      0.48      0.49       226\n",
      "          nv       0.85      0.90      0.88      1338\n",
      "        vasc       0.77      0.48      0.59        21\n",
      "\n",
      "    accuracy                           0.75      2003\n",
      "   macro avg       0.58      0.47      0.50      2003\n",
      "weighted avg       0.74      0.75      0.74      2003\n",
      "\n"
     ]
    }
   ],
   "source": [
    "from sklearn.metrics import classification_report, confusion_matrix\n",
    "import seaborn as sns\n",
    "\n",
    "# Predict class probabilities\n",
    "y_pred_probs = model.predict(X_val)\n",
    "y_pred = np.argmax(y_pred_probs, axis=1)\n",
    "y_true = np.argmax(y_val, axis=1)\n",
    "\n",
    "# Confusion matrix\n",
    "cm = confusion_matrix(y_true, y_pred)\n",
    "plt.figure(figsize=(8, 6))\n",
    "sns.heatmap(cm, annot=True, fmt='d', cmap='Blues', xticklabels=le.classes_, yticklabels=le.classes_)\n",
    "plt.xlabel(\"Predicted\")\n",
    "plt.ylabel(\"True\")\n",
    "plt.title(\"Confusion Matrix\")\n",
    "plt.show()\n",
    "\n",
    "# Classification report\n",
    "print(classification_report(y_true, y_pred, target_names=le.classes_))\n"
   ]
  },
  {
   "cell_type": "code",
   "execution_count": 15,
   "id": "7a756ec0-5b23-45be-abb9-561f4074d8da",
   "metadata": {},
   "outputs": [
    {
     "name": "stderr",
     "output_type": "stream",
     "text": [
      "WARNING:absl:You are saving your model as an HDF5 file via `model.save()` or `keras.saving.save_model(model)`. This file format is considered legacy. We recommend using instead the native Keras format, e.g. `model.save('my_model.keras')` or `keras.saving.save_model(model, 'my_model.keras')`. \n"
     ]
    }
   ],
   "source": [
    "model.save(\"mobilenet_skin_disease_model.h5\")"
   ]
  },
  {
   "cell_type": "code",
   "execution_count": 16,
   "id": "cbf524e5-9152-4313-87bd-2e67c3c84486",
   "metadata": {},
   "outputs": [],
   "source": [
    "model.save(\"mobilenet_skin_model.keras\")\n"
   ]
  },
  {
   "cell_type": "code",
   "execution_count": 17,
   "id": "1b6da40d-96d1-4fc6-a7ac-a2956aeb88ce",
   "metadata": {},
   "outputs": [
    {
     "name": "stdout",
     "output_type": "stream",
     "text": [
      "False\n"
     ]
    }
   ],
   "source": [
    "print(os.path.exists(\"mobilenet_skin_model.h5\"))\n"
   ]
  },
  {
   "cell_type": "code",
   "execution_count": 18,
   "id": "773c8e66-cff1-4413-a722-5ff1a8e9524b",
   "metadata": {},
   "outputs": [
    {
     "name": "stdout",
     "output_type": "stream",
     "text": [
      "['.ipynb_checkpoints', 'AIML_project.ipynb', 'desktop.ini', 'HAM10000_images_part_1', 'HAM10000_images_part_2', 'HAM10000_metadata.csv', 'hmnist_28_28_L.csv', 'hmnist_28_28_RGB.csv', 'hmnist_8_8_L.csv', 'hmnist_8_8_RGB.csv', 'mobilenet_skin_disease_model.h5', 'mobilenet_skin_model.keras', 'Telegram Desktop']\n"
     ]
    }
   ],
   "source": [
    "import os\n",
    "print(os.listdir())  # Lists all files in the current directory\n"
   ]
  },
  {
   "cell_type": "code",
   "execution_count": 19,
   "id": "8062a0ad-7b93-484d-bf65-c5f604f378a9",
   "metadata": {},
   "outputs": [
    {
     "name": "stderr",
     "output_type": "stream",
     "text": [
      "C:\\Users\\aroma\\AppData\\Local\\Programs\\Python\\Python310\\lib\\site-packages\\keras\\src\\saving\\saving_lib.py:802: UserWarning: Skipping variable loading for optimizer 'rmsprop', because it has 6 variables whereas the saved optimizer has 10 variables. \n",
      "  saveable.load_own_variables(weights_store.get(inner_path))\n"
     ]
    }
   ],
   "source": [
    "model = load_model(\"mobilenet_skin_model.keras\")\n"
   ]
  },
  {
   "cell_type": "code",
   "execution_count": 20,
   "id": "852d81e6-fae9-43fc-80ba-bec544845c81",
   "metadata": {},
   "outputs": [],
   "source": [
    "from keras.models import load_model\n",
    "\n",
    "model = load_model(\"mobilenet_skin_model.keras\", compile=False)  # compile=False avoids optimizer mismatch\n"
   ]
  },
  {
   "cell_type": "code",
   "execution_count": 21,
   "id": "a74a14d7-b2bf-4842-bea9-d068383f5edc",
   "metadata": {},
   "outputs": [
    {
     "name": "stdout",
     "output_type": "stream",
     "text": [
      "True\n",
      "False\n",
      "['.ipynb_checkpoints', 'AIML_project.ipynb', 'desktop.ini', 'HAM10000_images_part_1', 'HAM10000_images_part_2', 'HAM10000_metadata.csv', 'hmnist_28_28_L.csv', 'hmnist_28_28_RGB.csv', 'hmnist_8_8_L.csv', 'hmnist_8_8_RGB.csv', 'mobilenet_skin_disease_model.h5', 'mobilenet_skin_model.keras', 'Telegram Desktop']\n"
     ]
    }
   ],
   "source": [
    "import os\n",
    "# For .keras file\n",
    "print(os.path.exists(\"mobilenet_skin_model.keras\"))  # Returns True if file exists\n",
    "\n",
    "# For .h5 file\n",
    "print(os.path.exists(\"mobilenet_skin_model.h5\"))\n",
    "print(os.listdir())  # Lists all files and folders in current directory\n"
   ]
  },
  {
   "cell_type": "code",
   "execution_count": 22,
   "id": "9812225c-64f8-4ac6-a1e0-c6494213e67c",
   "metadata": {},
   "outputs": [
    {
     "name": "stdout",
     "output_type": "stream",
     "text": [
      "Working directory: C:\\Users\\aroma\\Downloads\n"
     ]
    }
   ],
   "source": [
    "import os\n",
    "print(\"Working directory:\", os.getcwd())\n"
   ]
  },
  {
   "cell_type": "code",
   "execution_count": 23,
   "id": "bbde5eb2-2dd5-4b49-b17d-c324fe03f0c3",
   "metadata": {},
   "outputs": [
    {
     "name": "stdout",
     "output_type": "stream",
     "text": [
      "['.ipynb_checkpoints', 'AIML_project.ipynb', 'desktop.ini', 'HAM10000_images_part_1', 'HAM10000_images_part_2', 'HAM10000_metadata.csv', 'hmnist_28_28_L.csv', 'hmnist_28_28_RGB.csv', 'hmnist_8_8_L.csv', 'hmnist_8_8_RGB.csv', 'mobilenet_skin_disease_model.h5', 'mobilenet_skin_model.keras', 'Telegram Desktop']\n"
     ]
    }
   ],
   "source": [
    "print(os.listdir())\n"
   ]
  },
  {
   "cell_type": "code",
   "execution_count": 24,
   "id": "708c53ef-413a-4dd9-9cf6-ad3531fb6687",
   "metadata": {},
   "outputs": [
    {
     "name": "stdout",
     "output_type": "stream",
     "text": [
      "Working Directory: C:\\Users\\aroma\\Downloads\n",
      "Files in folder: ['test_image.jpg']\n"
     ]
    }
   ],
   "source": [
    "import os\n",
    "\n",
    "# Show your current folder\n",
    "print(\"Working Directory:\", os.getcwd())\n",
    "\n",
    "# Try listing contents of the expected image folder\n",
    "folder_path = r\"C:\\Users\\aroma\\Pictures\\skin_images\"\n",
    "print(\"Files in folder:\", os.listdir(folder_path))\n"
   ]
  },
  {
   "cell_type": "code",
   "execution_count": 7,
   "id": "3b1dcbcd-a6d6-45ff-b1c7-4145b27a9670",
   "metadata": {},
   "outputs": [
    {
     "name": "stdout",
     "output_type": "stream",
     "text": [
      "\u001b[1m1/1\u001b[0m \u001b[32m━━━━━━━━━━━━━━━━━━━━\u001b[0m\u001b[37m\u001b[0m \u001b[1m1s\u001b[0m 814ms/step\n",
      "Prediction shape: (1, 7)\n",
      "Prediction values: [[1.8804137e-08 2.7359677e-06 2.3011873e-05 6.9172330e-09 5.2075226e-02\n",
      "  9.4786447e-01 3.4529858e-05]]\n"
     ]
    },
    {
     "ename": "IndexError",
     "evalue": "list index out of range",
     "output_type": "error",
     "traceback": [
      "\u001b[1;31m---------------------------------------------------------------------------\u001b[0m",
      "\u001b[1;31mIndexError\u001b[0m                                Traceback (most recent call last)",
      "Cell \u001b[1;32mIn[7], line 28\u001b[0m\n\u001b[0;32m     25\u001b[0m \u001b[38;5;28;01melse\u001b[39;00m:\n\u001b[0;32m     26\u001b[0m     \u001b[38;5;66;03m# Multi-class classification\u001b[39;00m\n\u001b[0;32m     27\u001b[0m     class_names \u001b[38;5;241m=\u001b[39m [\u001b[38;5;124m'\u001b[39m\u001b[38;5;124mEczema\u001b[39m\u001b[38;5;124m'\u001b[39m, \u001b[38;5;124m'\u001b[39m\u001b[38;5;124mPsoriasis\u001b[39m\u001b[38;5;124m'\u001b[39m, \u001b[38;5;124m'\u001b[39m\u001b[38;5;124mHealthy\u001b[39m\u001b[38;5;124m'\u001b[39m]  \u001b[38;5;66;03m# Update as per your model\u001b[39;00m\n\u001b[1;32m---> 28\u001b[0m     predicted_class \u001b[38;5;241m=\u001b[39m \u001b[43mclass_names\u001b[49m\u001b[43m[\u001b[49m\u001b[43mnp\u001b[49m\u001b[38;5;241;43m.\u001b[39;49m\u001b[43margmax\u001b[49m\u001b[43m(\u001b[49m\u001b[43mprediction\u001b[49m\u001b[43m)\u001b[49m\u001b[43m]\u001b[49m\n\u001b[0;32m     30\u001b[0m \u001b[38;5;28mprint\u001b[39m(\u001b[38;5;124m\"\u001b[39m\u001b[38;5;124mPredicted class:\u001b[39m\u001b[38;5;124m\"\u001b[39m, predicted_class)\n",
      "\u001b[1;31mIndexError\u001b[0m: list index out of range"
     ]
    }
   ],
   "source": [
    "from keras.models import load_model\n",
    "from keras.preprocessing import image\n",
    "import numpy as np\n",
    "\n",
    "# Load model\n",
    "model = load_model(\"mobilenet_skin_model.keras\", compile=False)\n",
    "\n",
    "# Load and preprocess image (resize to 128x128 as required by the model)\n",
    "img = image.load_img(r\"C:\\Users\\aroma\\Pictures\\skin_images\\test_image.jpg\", target_size=(128, 128))\n",
    "img_array = image.img_to_array(img)\n",
    "img_array = np.expand_dims(img_array, axis=0) / 255.0  # Normalize\n",
    "\n",
    "# Predict\n",
    "prediction = model.predict(img_array)\n",
    "\n",
    "# Print raw prediction output\n",
    "print(\"Prediction shape:\", prediction.shape)\n",
    "print(\"Prediction values:\", prediction)\n",
    "\n",
    "# Decode prediction\n",
    "if prediction.shape[-1] == 1:\n",
    "    # Binary classification\n",
    "    class_names = ['Class A', 'Class B']  # Replace with actual class names\n",
    "    predicted_class = class_names[int(prediction[0][0] > 0.5)]\n",
    "else:\n",
    "    # Multi-class classification\n",
    "    class_names = ['Eczema', 'Psoriasis', 'Healthy']  # Update as per your model\n",
    "    predicted_class = class_names[np.argmax(prediction)]\n",
    "\n",
    "print(\"Predicted class:\", predicted_class)\n"
   ]
  },
  {
   "cell_type": "code",
   "execution_count": 1,
   "id": "e046cc18-5c0a-4b58-ae16-143410c271d8",
   "metadata": {},
   "outputs": [
    {
     "name": "stdout",
     "output_type": "stream",
     "text": [
      "\u001b[1m1/1\u001b[0m \u001b[32m━━━━━━━━━━━━━━━━━━━━\u001b[0m\u001b[37m\u001b[0m \u001b[1m3s\u001b[0m 3s/step\n",
      "Predicted Condition: Wart\n",
      "Confidence: 100.00%\n",
      "Recommended Treatment: Salicylic Acid Patch or Imiquimod Cream\n"
     ]
    }
   ],
   "source": [
    "from keras.preprocessing import image\n",
    "import numpy as np\n",
    "from keras.models import load_model\n",
    "\n",
    "\n",
    "# Load model\n",
    "model = load_model(\"mobilenet_skin_model.keras\", compile=False)\n",
    "\n",
    "# Load and preprocess image\n",
    "img_path = r\"C:\\Users\\aroma\\Pictures\\skin_images\\test_image.jpg\"\n",
    "img = image.load_img(img_path)\n",
    "img = img.resize((128, 128))\n",
    "\n",
    "img_array = image.img_to_array(img)\n",
    "img_array = np.expand_dims(img_array, axis=0) / 255.0\n",
    "\n",
    "# Predict\n",
    "prediction = model.predict(img_array)\n",
    "\n",
    "# Class names and cream recommendations\n",
    "class_names = [\n",
    "    \"Acne\",\n",
    "    \"Eczema\",\n",
    "    \"Melanoma\",\n",
    "    \"Rosacea\",\n",
    "    \"Wart\",\n",
    "    \"Psoriasis\",\n",
    "    \"Healthy\"\n",
    "]\n",
    "\n",
    "# Suggested creams\n",
    "cream_recommendations = {\n",
    "    \"Acne\": \"Benzoyl Peroxide Gel or Salicylic Acid Cream\",\n",
    "    \"Eczema\": \"Hydrocortisone Cream or CeraVe Eczema Relief\",\n",
    "    \"Melanoma\": \"Consult a dermatologist immediately — no over-the-counter treatment\",\n",
    "    \"Rosacea\": \"Metronidazole Gel or Azelaic Acid\",\n",
    "    \"Wart\": \"Salicylic Acid Patch or Imiquimod Cream\",\n",
    "    \"Psoriasis\": \"Calcipotriol Cream or Coal Tar Ointment\",\n",
    "    \"Healthy\": \"No treatment needed. Keep skin moisturized.\"\n",
    "}\n",
    "\n",
    "# Decode prediction\n",
    "predicted_index = np.argmax(prediction)\n",
    "predicted_class = class_names[predicted_index]\n",
    "confidence = prediction[0][predicted_index]\n",
    "suggested_cream = cream_recommendations[predicted_class]\n",
    "\n",
    "# Output\n",
    "print(\"Predicted Condition:\", predicted_class)\n",
    "print(\"Confidence:\", f\"{confidence:.2%}\")\n",
    "print(\"Recommended Treatment:\", suggested_cream)\n"
   ]
  },
  {
   "cell_type": "code",
   "execution_count": 2,
   "id": "02f4bb38-bd7f-437b-9ea0-0110b6994305",
   "metadata": {},
   "outputs": [
    {
     "name": "stdout",
     "output_type": "stream",
     "text": [
      "\u001b[1m1/1\u001b[0m \u001b[32m━━━━━━━━━━━━━━━━━━━━\u001b[0m\u001b[37m\u001b[0m \u001b[1m3s\u001b[0m 3s/step\n",
      "\n",
      "🖼️ Image: test_image.jpg\n",
      "🩺 Predicted Condition: Wart\n",
      "📊 Confidence: 100.00%\n",
      "💊 Recommended Cream: Salicylic Acid Patch or Imiquimod Cream\n"
     ]
    }
   ],
   "source": [
    "import os\n",
    "import csv\n",
    "import numpy as np\n",
    "from keras.models import load_model\n",
    "from keras.preprocessing import image\n",
    "\n",
    "# Load model\n",
    "model = load_model(\"mobilenet_skin_model.keras\", compile=False)\n",
    "\n",
    "# Define class names and treatment suggestions\n",
    "class_names = [\n",
    "    \"Acne\", \"Eczema\", \"Melanoma\", \"Rosacea\", \"Wart\", \"Psoriasis\", \"Healthy\",\n",
    "    \"Seborrheic Dermatitis\", \"Perioral Dermatitis\", \"Tinea Faciei\", \"Lupus\",\n",
    "    \"Contact Dermatitis\", \"Milia\", \"Actinic Keratosis\", \"Cold Sore\",\n",
    "    \"Impetigo\", \"Folliculitis\", \"Keratosis Pilaris\", \"Hives\", \"Hyperpigmentation\",\n",
    "    \"Vitiligo\", \"Basal Cell Carcinoma\", \"Squamous Cell Carcinoma\",\n",
    "    \"Angioedema\", \"Molluscum Contagiosum\", \"Skin Tag\", \"Allergic Rash\"\n",
    "]\n",
    "\n",
    "cream_recommendations = {\n",
    "    \"Acne\": \"Benzoyl Peroxide Gel or Salicylic Acid Cream\",\n",
    "    \"Eczema\": \"Hydrocortisone Cream or CeraVe Eczema Relief\",\n",
    "    \"Melanoma\": \"⚠️ Consult a dermatologist immediately\",\n",
    "    \"Rosacea\": \"Metronidazole Gel or Azelaic Acid\",\n",
    "    \"Wart\": \"Salicylic Acid Patch or Imiquimod Cream\",\n",
    "    \"Psoriasis\": \"Calcipotriol Cream or Coal Tar Ointment\",\n",
    "    \"Healthy\": \"No treatment needed. Keep skin moisturized.\",\n",
    "    \"Seborrheic Dermatitis\": \"Ketoconazole Cream or Zinc Pyrithione Cream\",\n",
    "    \"Perioral Dermatitis\": \"Topical Metronidazole or Clindamycin Gel\",\n",
    "    \"Tinea Faciei\": \"Clotrimazole or Terbinafine Antifungal Cream\",\n",
    "    \"Lupus\": \"⚠️ Autoimmune condition — refer to a specialist\",\n",
    "    \"Contact Dermatitis\": \"Hydrocortisone Cream and allergen avoidance\",\n",
    "    \"Milia\": \"No cream needed — consult for extraction\",\n",
    "    \"Actinic Keratosis\": \"5-FU Cream or Imiquimod — see a dermatologist\",\n",
    "    \"Cold Sore\": \"Topical Acyclovir or Docosanol (Abreva)\",\n",
    "    \"Impetigo\": \"Mupirocin (Bactroban) or Fusidic Acid\",\n",
    "    \"Folliculitis\": \"Topical Clindamycin or Benzoyl Peroxide\",\n",
    "    \"Keratosis Pilaris\": \"Lactic Acid or Urea Cream\",\n",
    "    \"Hives\": \"Antihistamine Cream or Oral Cetirizine\",\n",
    "    \"Hyperpigmentation\": \"Hydroquinone, Kojic Acid, or Niacinamide\",\n",
    "    \"Vitiligo\": \"Tacrolimus Ointment or consult for UV therapy\",\n",
    "    \"Basal Cell Carcinoma\": \"⚠️ Requires excision or specialist treatment\",\n",
    "    \"Squamous Cell Carcinoma\": \"⚠️ Urgent referral for biopsy and removal\",\n",
    "    \"Angioedema\": \"Oral antihistamines and cold compress\",\n",
    "    \"Molluscum Contagiosum\": \"Imiquimod or Cryotherapy by dermatologist\",\n",
    "    \"Skin Tag\": \"Usually harmless — may be removed by a doctor\",\n",
    "    \"Allergic Rash\": \"Hydrocortisone Cream and oral antihistamines\"\n",
    "}\n",
    "\n",
    "# Output CSV file\n",
    "CSV_LOG_PATH = \"predictions_log.csv\"\n",
    "\n",
    "# Create CSV file with headers if it doesn't exist\n",
    "if not os.path.exists(CSV_LOG_PATH):\n",
    "    with open(CSV_LOG_PATH, mode='w', newline='') as file:\n",
    "        writer = csv.writer(file)\n",
    "        writer.writerow([\"Image\", \"Predicted Condition\", \"Confidence (%)\", \"Suggested Treatment\"])\n",
    "\n",
    "# Prediction function with logging\n",
    "def predict_and_log(img_path):\n",
    "    if not os.path.exists(img_path):\n",
    "        print(f\"❌ Image not found: {img_path}\")\n",
    "        return\n",
    "\n",
    "    try:\n",
    "        img = image.load_img(img_path)\n",
    "        img = img.resize((128, 128))\n",
    "        img_array = image.img_to_array(img)\n",
    "        img_array = np.expand_dims(img_array, axis=0) / 255.0\n",
    "\n",
    "        prediction = model.predict(img_array)\n",
    "        predicted_index = np.argmax(prediction)\n",
    "        predicted_class = class_names[predicted_index]\n",
    "        confidence = float(prediction[0][predicted_index]) * 100\n",
    "        treatment = cream_recommendations[predicted_class]\n",
    "\n",
    "        # Print output\n",
    "        print(\"\\n🖼️ Image:\", os.path.basename(img_path))\n",
    "        print(\"🩺 Predicted Condition:\", predicted_class)\n",
    "        print(\"📊 Confidence:\", f\"{confidence:.2f}%\")\n",
    "        print(\"💊 Recommended Cream:\", treatment)\n",
    "\n",
    "        # Log to CSV\n",
    "        with open(CSV_LOG_PATH, mode='a', newline='') as file:\n",
    "            writer = csv.writer(file)\n",
    "            writer.writerow([\n",
    "                os.path.basename(img_path),\n",
    "                predicted_class,\n",
    "                f\"{confidence:.2f}\",\n",
    "                treatment\n",
    "            ])\n",
    "\n",
    "    except Exception as e:\n",
    "        print(f\"⚠️ Error processing {img_path}: {e}\")\n",
    "\n",
    "# Example usage:\n",
    "predict_and_log(r\"C:\\Users\\aroma\\Pictures\\skin_images\\test_image.jpg\")\n",
    "\n",
    "# Optional: Batch process a folder\n",
    "def batch_predict_and_log(folder_path):\n",
    "    for filename in os.listdir(folder_path):\n",
    "        if filename.lower().endswith((\".jpg\", \".jpeg\", \".png\")):\n",
    "            predict_and_log(os.path.join(folder_path, filename))\n",
    "\n",
    "# Uncomment to run on folder\n",
    "# batch_predict_and_log(r\"C:\\Users\\aroma\\Pictures\\skin_images\")\n"
   ]
  },
  {
   "cell_type": "code",
   "execution_count": 1,
   "id": "10428670-9173-4b69-abd8-a3affb4106d3",
   "metadata": {},
   "outputs": [
    {
     "name": "stdout",
     "output_type": "stream",
     "text": [
      "Requirement already satisfied: flask in c:\\users\\aroma\\appdata\\local\\programs\\python\\python310\\lib\\site-packages (3.1.1)\n",
      "Requirement already satisfied: tensorflow in c:\\users\\aroma\\appdata\\local\\programs\\python\\python310\\lib\\site-packages (2.19.0)\n",
      "Collecting opencv-python\n",
      "  Using cached opencv_python-4.11.0.86-cp37-abi3-win_amd64.whl.metadata (20 kB)\n",
      "Requirement already satisfied: pillow in c:\\users\\aroma\\appdata\\local\\programs\\python\\python310\\lib\\site-packages (11.2.1)\n",
      "Requirement already satisfied: blinker>=1.9.0 in c:\\users\\aroma\\appdata\\local\\programs\\python\\python310\\lib\\site-packages (from flask) (1.9.0)\n",
      "Requirement already satisfied: click>=8.1.3 in c:\\users\\aroma\\appdata\\local\\programs\\python\\python310\\lib\\site-packages (from flask) (8.2.1)\n",
      "Requirement already satisfied: itsdangerous>=2.2.0 in c:\\users\\aroma\\appdata\\local\\programs\\python\\python310\\lib\\site-packages (from flask) (2.2.0)\n",
      "Requirement already satisfied: jinja2>=3.1.2 in c:\\users\\aroma\\appdata\\local\\programs\\python\\python310\\lib\\site-packages (from flask) (3.1.6)\n",
      "Requirement already satisfied: markupsafe>=2.1.1 in c:\\users\\aroma\\appdata\\local\\programs\\python\\python310\\lib\\site-packages (from flask) (3.0.2)\n",
      "Requirement already satisfied: werkzeug>=3.1.0 in c:\\users\\aroma\\appdata\\local\\programs\\python\\python310\\lib\\site-packages (from flask) (3.1.3)\n",
      "Requirement already satisfied: absl-py>=1.0.0 in c:\\users\\aroma\\appdata\\local\\programs\\python\\python310\\lib\\site-packages (from tensorflow) (2.3.0)\n",
      "Requirement already satisfied: astunparse>=1.6.0 in c:\\users\\aroma\\appdata\\local\\programs\\python\\python310\\lib\\site-packages (from tensorflow) (1.6.3)\n",
      "Requirement already satisfied: flatbuffers>=24.3.25 in c:\\users\\aroma\\appdata\\local\\programs\\python\\python310\\lib\\site-packages (from tensorflow) (25.2.10)\n",
      "Requirement already satisfied: gast!=0.5.0,!=0.5.1,!=0.5.2,>=0.2.1 in c:\\users\\aroma\\appdata\\local\\programs\\python\\python310\\lib\\site-packages (from tensorflow) (0.6.0)\n",
      "Requirement already satisfied: google-pasta>=0.1.1 in c:\\users\\aroma\\appdata\\local\\programs\\python\\python310\\lib\\site-packages (from tensorflow) (0.2.0)\n",
      "Requirement already satisfied: libclang>=13.0.0 in c:\\users\\aroma\\appdata\\local\\programs\\python\\python310\\lib\\site-packages (from tensorflow) (18.1.1)\n",
      "Requirement already satisfied: opt-einsum>=2.3.2 in c:\\users\\aroma\\appdata\\local\\programs\\python\\python310\\lib\\site-packages (from tensorflow) (3.4.0)\n",
      "Requirement already satisfied: packaging in c:\\users\\aroma\\appdata\\local\\programs\\python\\python310\\lib\\site-packages (from tensorflow) (25.0)\n",
      "Requirement already satisfied: protobuf!=4.21.0,!=4.21.1,!=4.21.2,!=4.21.3,!=4.21.4,!=4.21.5,<6.0.0dev,>=3.20.3 in c:\\users\\aroma\\appdata\\local\\programs\\python\\python310\\lib\\site-packages (from tensorflow) (5.29.5)\n",
      "Requirement already satisfied: requests<3,>=2.21.0 in c:\\users\\aroma\\appdata\\local\\programs\\python\\python310\\lib\\site-packages (from tensorflow) (2.32.4)\n",
      "Requirement already satisfied: setuptools in c:\\users\\aroma\\appdata\\local\\programs\\python\\python310\\lib\\site-packages (from tensorflow) (80.9.0)\n",
      "Requirement already satisfied: six>=1.12.0 in c:\\users\\aroma\\appdata\\local\\programs\\python\\python310\\lib\\site-packages (from tensorflow) (1.17.0)\n",
      "Requirement already satisfied: termcolor>=1.1.0 in c:\\users\\aroma\\appdata\\local\\programs\\python\\python310\\lib\\site-packages (from tensorflow) (3.1.0)\n",
      "Requirement already satisfied: typing-extensions>=3.6.6 in c:\\users\\aroma\\appdata\\local\\programs\\python\\python310\\lib\\site-packages (from tensorflow) (4.14.0)\n",
      "Requirement already satisfied: wrapt>=1.11.0 in c:\\users\\aroma\\appdata\\local\\programs\\python\\python310\\lib\\site-packages (from tensorflow) (1.17.2)\n",
      "Requirement already satisfied: grpcio<2.0,>=1.24.3 in c:\\users\\aroma\\appdata\\local\\programs\\python\\python310\\lib\\site-packages (from tensorflow) (1.73.0)\n",
      "Requirement already satisfied: tensorboard~=2.19.0 in c:\\users\\aroma\\appdata\\local\\programs\\python\\python310\\lib\\site-packages (from tensorflow) (2.19.0)\n",
      "Requirement already satisfied: keras>=3.5.0 in c:\\users\\aroma\\appdata\\local\\programs\\python\\python310\\lib\\site-packages (from tensorflow) (3.10.0)\n",
      "Requirement already satisfied: numpy<2.2.0,>=1.26.0 in c:\\users\\aroma\\appdata\\local\\programs\\python\\python310\\lib\\site-packages (from tensorflow) (2.1.3)\n",
      "Requirement already satisfied: h5py>=3.11.0 in c:\\users\\aroma\\appdata\\local\\programs\\python\\python310\\lib\\site-packages (from tensorflow) (3.14.0)\n",
      "Requirement already satisfied: ml-dtypes<1.0.0,>=0.5.1 in c:\\users\\aroma\\appdata\\local\\programs\\python\\python310\\lib\\site-packages (from tensorflow) (0.5.1)\n",
      "Requirement already satisfied: tensorflow-io-gcs-filesystem>=0.23.1 in c:\\users\\aroma\\appdata\\local\\programs\\python\\python310\\lib\\site-packages (from tensorflow) (0.31.0)\n",
      "Requirement already satisfied: charset_normalizer<4,>=2 in c:\\users\\aroma\\appdata\\local\\programs\\python\\python310\\lib\\site-packages (from requests<3,>=2.21.0->tensorflow) (3.4.2)\n",
      "Requirement already satisfied: idna<4,>=2.5 in c:\\users\\aroma\\appdata\\local\\programs\\python\\python310\\lib\\site-packages (from requests<3,>=2.21.0->tensorflow) (3.10)\n",
      "Requirement already satisfied: urllib3<3,>=1.21.1 in c:\\users\\aroma\\appdata\\local\\programs\\python\\python310\\lib\\site-packages (from requests<3,>=2.21.0->tensorflow) (2.4.0)\n",
      "Requirement already satisfied: certifi>=2017.4.17 in c:\\users\\aroma\\appdata\\local\\programs\\python\\python310\\lib\\site-packages (from requests<3,>=2.21.0->tensorflow) (2025.6.15)\n",
      "Requirement already satisfied: markdown>=2.6.8 in c:\\users\\aroma\\appdata\\local\\programs\\python\\python310\\lib\\site-packages (from tensorboard~=2.19.0->tensorflow) (3.8)\n",
      "Requirement already satisfied: tensorboard-data-server<0.8.0,>=0.7.0 in c:\\users\\aroma\\appdata\\local\\programs\\python\\python310\\lib\\site-packages (from tensorboard~=2.19.0->tensorflow) (0.7.2)\n",
      "Requirement already satisfied: wheel<1.0,>=0.23.0 in c:\\users\\aroma\\appdata\\local\\programs\\python\\python310\\lib\\site-packages (from astunparse>=1.6.0->tensorflow) (0.45.1)\n",
      "Requirement already satisfied: colorama in c:\\users\\aroma\\appdata\\local\\programs\\python\\python310\\lib\\site-packages (from click>=8.1.3->flask) (0.4.6)\n",
      "Requirement already satisfied: rich in c:\\users\\aroma\\appdata\\local\\programs\\python\\python310\\lib\\site-packages (from keras>=3.5.0->tensorflow) (14.0.0)\n",
      "Requirement already satisfied: namex in c:\\users\\aroma\\appdata\\local\\programs\\python\\python310\\lib\\site-packages (from keras>=3.5.0->tensorflow) (0.1.0)\n",
      "Requirement already satisfied: optree in c:\\users\\aroma\\appdata\\local\\programs\\python\\python310\\lib\\site-packages (from keras>=3.5.0->tensorflow) (0.16.0)\n",
      "Requirement already satisfied: markdown-it-py>=2.2.0 in c:\\users\\aroma\\appdata\\local\\programs\\python\\python310\\lib\\site-packages (from rich->keras>=3.5.0->tensorflow) (3.0.0)\n",
      "Requirement already satisfied: pygments<3.0.0,>=2.13.0 in c:\\users\\aroma\\appdata\\local\\programs\\python\\python310\\lib\\site-packages (from rich->keras>=3.5.0->tensorflow) (2.19.1)\n",
      "Requirement already satisfied: mdurl~=0.1 in c:\\users\\aroma\\appdata\\local\\programs\\python\\python310\\lib\\site-packages (from markdown-it-py>=2.2.0->rich->keras>=3.5.0->tensorflow) (0.1.2)\n",
      "Using cached opencv_python-4.11.0.86-cp37-abi3-win_amd64.whl (39.5 MB)\n",
      "Installing collected packages: opencv-python\n",
      "Successfully installed opencv-python-4.11.0.86\n"
     ]
    }
   ],
   "source": [
    "!pip install flask tensorflow opencv-python pillow"
   ]
  },
  {
   "cell_type": "code",
   "execution_count": null,
   "id": "2a5cc8b5-3a4f-458a-9dc7-84a2e4c6add3",
   "metadata": {},
   "outputs": [],
   "source": []
  },
  {
   "cell_type": "code",
   "execution_count": null,
   "id": "65c4dadf-6585-48fd-9fa4-3c604063edb8",
   "metadata": {},
   "outputs": [],
   "source": []
  },
  {
   "cell_type": "code",
   "execution_count": null,
   "id": "98d47a5d-8f8e-4bb9-82ea-75fcd6e3c675",
   "metadata": {},
   "outputs": [],
   "source": []
  },
  {
   "cell_type": "code",
   "execution_count": null,
   "id": "6de38108-f1f6-4d54-9f6a-c1953a467090",
   "metadata": {},
   "outputs": [],
   "source": []
  },
  {
   "cell_type": "code",
   "execution_count": null,
   "id": "6fded91e-5893-43bc-aaba-731b0eda7680",
   "metadata": {},
   "outputs": [],
   "source": []
  },
  {
   "cell_type": "code",
   "execution_count": null,
   "id": "7a2a1e69-aed0-4a3d-8b5b-ee23f9e4ae1f",
   "metadata": {},
   "outputs": [],
   "source": []
  },
  {
   "cell_type": "code",
   "execution_count": null,
   "id": "a2f017df-6d1b-4314-97ea-4784cfecc081",
   "metadata": {},
   "outputs": [],
   "source": []
  },
  {
   "cell_type": "code",
   "execution_count": null,
   "id": "c5ff28d3-829b-44b5-b300-7f1b928cfc8c",
   "metadata": {},
   "outputs": [],
   "source": []
  },
  {
   "cell_type": "code",
   "execution_count": null,
   "id": "20a5f202-c062-49e8-a5f7-ec3a44071484",
   "metadata": {},
   "outputs": [],
   "source": []
  }
 ],
 "metadata": {
  "kernelspec": {
   "display_name": "Python 3 (ipykernel)",
   "language": "python",
   "name": "python3"
  },
  "language_info": {
   "codemirror_mode": {
    "name": "ipython",
    "version": 3
   },
   "file_extension": ".py",
   "mimetype": "text/x-python",
   "name": "python",
   "nbconvert_exporter": "python",
   "pygments_lexer": "ipython3",
   "version": "3.10.11"
  }
 },
 "nbformat": 4,
 "nbformat_minor": 5
}
